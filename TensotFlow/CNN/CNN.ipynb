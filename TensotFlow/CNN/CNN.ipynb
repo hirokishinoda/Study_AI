{
  "nbformat": 4,
  "nbformat_minor": 0,
  "metadata": {
    "colab": {
      "name": "CNN.ipynb",
      "version": "0.3.2",
      "provenance": []
    },
    "kernelspec": {
      "name": "python3",
      "display_name": "Python 3"
    },
    "accelerator": "GPU"
  },
  "cells": [
    {
      "cell_type": "markdown",
      "metadata": {
        "id": "w_0GejDDWdkC",
        "colab_type": "text"
      },
      "source": [
        "# TensorflowでConvolutionalNewralNetworkを実装してみる"
      ]
    },
    {
      "cell_type": "code",
      "metadata": {
        "id": "BObs5HUvbjQa",
        "colab_type": "code",
        "colab": {
          "base_uri": "https://localhost:8080/",
          "height": 547
        },
        "outputId": "2d770d13-2aec-4034-8bc0-07a312ce87a3"
      },
      "source": [
        "from tensorflow.examples.tutorials.mnist import input_data\n",
        "\n",
        "mnist = input_data.read_data_sets(\"MNIST_data\",one_hot = True)"
      ],
      "execution_count": 1,
      "outputs": [
        {
          "output_type": "stream",
          "text": [
            "WARNING: Logging before flag parsing goes to stderr.\n",
            "W0816 11:31:28.814537 140459619010432 deprecation.py:323] From <ipython-input-1-a16480888d23>:3: read_data_sets (from tensorflow.contrib.learn.python.learn.datasets.mnist) is deprecated and will be removed in a future version.\n",
            "Instructions for updating:\n",
            "Please use alternatives such as official/mnist/dataset.py from tensorflow/models.\n",
            "W0816 11:31:28.816403 140459619010432 deprecation.py:323] From /usr/local/lib/python3.6/dist-packages/tensorflow/contrib/learn/python/learn/datasets/mnist.py:260: maybe_download (from tensorflow.contrib.learn.python.learn.datasets.base) is deprecated and will be removed in a future version.\n",
            "Instructions for updating:\n",
            "Please write your own downloading logic.\n",
            "W0816 11:31:28.823936 140459619010432 deprecation.py:323] From /usr/local/lib/python3.6/dist-packages/tensorflow/contrib/learn/python/learn/datasets/base.py:252: _internal_retry.<locals>.wrap.<locals>.wrapped_fn (from tensorflow.contrib.learn.python.learn.datasets.base) is deprecated and will be removed in a future version.\n",
            "Instructions for updating:\n",
            "Please use urllib or similar directly.\n",
            "W0816 11:31:34.239470 140459619010432 deprecation.py:323] From /usr/local/lib/python3.6/dist-packages/tensorflow/contrib/learn/python/learn/datasets/mnist.py:262: extract_images (from tensorflow.contrib.learn.python.learn.datasets.mnist) is deprecated and will be removed in a future version.\n",
            "Instructions for updating:\n",
            "Please use tf.data to implement this functionality.\n"
          ],
          "name": "stderr"
        },
        {
          "output_type": "stream",
          "text": [
            "Successfully downloaded train-images-idx3-ubyte.gz 9912422 bytes.\n",
            "Extracting MNIST_data/train-images-idx3-ubyte.gz\n"
          ],
          "name": "stdout"
        },
        {
          "output_type": "stream",
          "text": [
            "W0816 11:31:34.647272 140459619010432 deprecation.py:323] From /usr/local/lib/python3.6/dist-packages/tensorflow/contrib/learn/python/learn/datasets/mnist.py:267: extract_labels (from tensorflow.contrib.learn.python.learn.datasets.mnist) is deprecated and will be removed in a future version.\n",
            "Instructions for updating:\n",
            "Please use tf.data to implement this functionality.\n",
            "W0816 11:31:34.653906 140459619010432 deprecation.py:323] From /usr/local/lib/python3.6/dist-packages/tensorflow/contrib/learn/python/learn/datasets/mnist.py:110: dense_to_one_hot (from tensorflow.contrib.learn.python.learn.datasets.mnist) is deprecated and will be removed in a future version.\n",
            "Instructions for updating:\n",
            "Please use tf.one_hot on tensors.\n"
          ],
          "name": "stderr"
        },
        {
          "output_type": "stream",
          "text": [
            "Successfully downloaded train-labels-idx1-ubyte.gz 28881 bytes.\n",
            "Extracting MNIST_data/train-labels-idx1-ubyte.gz\n",
            "Successfully downloaded t10k-images-idx3-ubyte.gz 1648877 bytes.\n",
            "Extracting MNIST_data/t10k-images-idx3-ubyte.gz\n"
          ],
          "name": "stdout"
        },
        {
          "output_type": "stream",
          "text": [
            "W0816 11:31:35.098067 140459619010432 deprecation.py:323] From /usr/local/lib/python3.6/dist-packages/tensorflow/contrib/learn/python/learn/datasets/mnist.py:290: DataSet.__init__ (from tensorflow.contrib.learn.python.learn.datasets.mnist) is deprecated and will be removed in a future version.\n",
            "Instructions for updating:\n",
            "Please use alternatives such as official/mnist/dataset.py from tensorflow/models.\n"
          ],
          "name": "stderr"
        },
        {
          "output_type": "stream",
          "text": [
            "Successfully downloaded t10k-labels-idx1-ubyte.gz 4542 bytes.\n",
            "Extracting MNIST_data/t10k-labels-idx1-ubyte.gz\n"
          ],
          "name": "stdout"
        }
      ]
    },
    {
      "cell_type": "code",
      "metadata": {
        "id": "NK_-SqImbPrD",
        "colab_type": "code",
        "colab": {}
      },
      "source": [
        "import tensorflow as tf"
      ],
      "execution_count": 0,
      "outputs": []
    },
    {
      "cell_type": "markdown",
      "metadata": {
        "id": "lqujeUVEcgG7",
        "colab_type": "text"
      },
      "source": [
        "## Sessionを立てる"
      ]
    },
    {
      "cell_type": "code",
      "metadata": {
        "id": "zUAWzcn7clyU",
        "colab_type": "code",
        "colab": {}
      },
      "source": [
        "sess = tf.InteractiveSession()"
      ],
      "execution_count": 0,
      "outputs": []
    },
    {
      "cell_type": "markdown",
      "metadata": {
        "id": "HYgfgCh1dR9R",
        "colab_type": "text"
      },
      "source": [
        "## 入力と教師，重み，閾値を作成する\n",
        "ここで placeholder は，グラフ実行の際に毎回初期化されるため入力・教師に使われる．\n",
        "\n",
        "また，Variable は，最初に初期化されて値を保持し続ける．モデル内のパラメータを表すテンソル．"
      ]
    },
    {
      "cell_type": "code",
      "metadata": {
        "id": "krwX-q0yctNJ",
        "colab_type": "code",
        "colab": {}
      },
      "source": [
        "x = tf.placeholder(tf.float32, shape=[None, 784])\n",
        "y = tf.placeholder(tf.float32, shape=[None, 10])\n",
        "\n",
        "W = tf.Variable(tf.zeros(784, 10))\n",
        "b = tf.Variable(tf.zeros([10]))"
      ],
      "execution_count": 0,
      "outputs": []
    },
    {
      "cell_type": "markdown",
      "metadata": {
        "id": "N7OWEaxGdKGi",
        "colab_type": "text"
      },
      "source": [
        "## 重みと閾値の初期化"
      ]
    },
    {
      "cell_type": "code",
      "metadata": {
        "id": "fgHEdVTWeuy7",
        "colab_type": "code",
        "colab": {}
      },
      "source": [
        "def weight_variables(shape):\n",
        "  initial = tf.truncated_normal(shape, stddev = 0.1)\n",
        "  return tf.Variable(initial)"
      ],
      "execution_count": 0,
      "outputs": []
    },
    {
      "cell_type": "code",
      "metadata": {
        "id": "_qhE2S5bfBgp",
        "colab_type": "code",
        "colab": {}
      },
      "source": [
        "def bias_variables(shape):\n",
        "  initial = tf.constant(0.1, shape=shape)\n",
        "  return tf.Variable(initial)"
      ],
      "execution_count": 0,
      "outputs": []
    },
    {
      "cell_type": "markdown",
      "metadata": {
        "id": "cAIdoFCtfQ5o",
        "colab_type": "text"
      },
      "source": [
        "## 畳み込み層\n",
        "\n",
        "ストライドを1で動かす．\n",
        "パディングは，入力と出力の大きさを変えない．"
      ]
    },
    {
      "cell_type": "code",
      "metadata": {
        "id": "YJWYAuSvfomy",
        "colab_type": "code",
        "colab": {}
      },
      "source": [
        "def conv2d(x, W):\n",
        "  return  tf.nn.conv2d(x, W, strides=[1,1,1,1], padding=\"SAME\")"
      ],
      "execution_count": 0,
      "outputs": []
    },
    {
      "cell_type": "markdown",
      "metadata": {
        "id": "6mzeXbsbgD5j",
        "colab_type": "text"
      },
      "source": [
        "## プーリング層"
      ]
    },
    {
      "cell_type": "code",
      "metadata": {
        "id": "L0mZUVVUhstM",
        "colab_type": "code",
        "colab": {}
      },
      "source": [
        "def pooling(x):\n",
        "  return tf.nn.max_pool(x, ksize=[1,2,2,1], strides=[1,2,2,1], padding='SAME')"
      ],
      "execution_count": 0,
      "outputs": []
    },
    {
      "cell_type": "markdown",
      "metadata": {
        "id": "0NHBDXY6h-sy",
        "colab_type": "text"
      },
      "source": [
        "## 第1畳み込み層\n",
        "重みパッチ5*5を32個用意する．\\[縦，横，入力チャンネル数，出力チャンネル数]"
      ]
    },
    {
      "cell_type": "code",
      "metadata": {
        "id": "He2VsJCeskMx",
        "colab_type": "code",
        "colab": {}
      },
      "source": [
        "W_conv1 = weight_variables([5,5,1,32])\n",
        "b_conv1 = bias_variables([32])"
      ],
      "execution_count": 0,
      "outputs": []
    },
    {
      "cell_type": "markdown",
      "metadata": {
        "id": "iDu_KeBCtOBJ",
        "colab_type": "text"
      },
      "source": [
        "## Xを整形"
      ]
    },
    {
      "cell_type": "code",
      "metadata": {
        "id": "SrWjllARtjqz",
        "colab_type": "code",
        "colab": {}
      },
      "source": [
        "x_image = tf.reshape(x, [-1,28,28,1])"
      ],
      "execution_count": 0,
      "outputs": []
    },
    {
      "cell_type": "markdown",
      "metadata": {
        "id": "pQAFUM4jtqPQ",
        "colab_type": "text"
      },
      "source": [
        "## 第1層の畳込みを行う"
      ]
    },
    {
      "cell_type": "code",
      "metadata": {
        "id": "XPBcMHM9t3OS",
        "colab_type": "code",
        "colab": {}
      },
      "source": [
        "h_conv1 = tf.nn.relu(conv2d(x_image,W_conv1) + b_conv1)\n",
        "h_pool1 = pooling(h_conv1)"
      ],
      "execution_count": 0,
      "outputs": []
    },
    {
      "cell_type": "markdown",
      "metadata": {
        "id": "aMrWqzW1uFjI",
        "colab_type": "text"
      },
      "source": [
        "## 第2層の畳込みと結果"
      ]
    },
    {
      "cell_type": "code",
      "metadata": {
        "id": "twAsYmCLuMa3",
        "colab_type": "code",
        "colab": {}
      },
      "source": [
        "W_conv2 = weight_variables([5,5,32,64])\n",
        "b_conv2 = bias_variables([64])\n",
        "\n",
        "h_conv2 = tf.nn.relu(conv2d(h_pool1, W_conv2) + b_conv2)\n",
        "h_pool2 = pooling(h_conv2)"
      ],
      "execution_count": 0,
      "outputs": []
    },
    {
      "cell_type": "markdown",
      "metadata": {
        "id": "Jv7IUV9Bu0WI",
        "colab_type": "text"
      },
      "source": [
        "## 全結合層"
      ]
    },
    {
      "cell_type": "code",
      "metadata": {
        "id": "XSdn9PLWvZ4u",
        "colab_type": "code",
        "colab": {}
      },
      "source": [
        "W_fc1 = weight_variables([7 * 7 * 64,1024])\n",
        "b_fc1 = bias_variables([1024])\n",
        "\n",
        "h_pool2_flat = tf.reshape(h_pool2,[-1,7*7*64])\n",
        "h_fc1 = tf.nn.relu(tf.matmul(h_pool2_flat, W_fc1) + b_fc1)"
      ],
      "execution_count": 0,
      "outputs": []
    },
    {
      "cell_type": "markdown",
      "metadata": {
        "id": "arUlSCsTwwd6",
        "colab_type": "text"
      },
      "source": [
        "## dropout層"
      ]
    },
    {
      "cell_type": "code",
      "metadata": {
        "id": "JrzUICmDwKKY",
        "colab_type": "code",
        "colab": {
          "base_uri": "https://localhost:8080/",
          "height": 88
        },
        "outputId": "cc9fb132-70f1-448f-f9f5-c99e8487aab2"
      },
      "source": [
        "keep_prob = tf.placeholder(tf.float32)\n",
        "h_fc1_drop = tf.nn.dropout(h_fc1, keep_prob)"
      ],
      "execution_count": 14,
      "outputs": [
        {
          "output_type": "stream",
          "text": [
            "W0816 11:31:36.769386 140459619010432 deprecation.py:506] From <ipython-input-14-35c3bf3a9559>:2: calling dropout (from tensorflow.python.ops.nn_ops) with keep_prob is deprecated and will be removed in a future version.\n",
            "Instructions for updating:\n",
            "Please use `rate` instead of `keep_prob`. Rate should be set to `rate = 1 - keep_prob`.\n"
          ],
          "name": "stderr"
        }
      ]
    },
    {
      "cell_type": "markdown",
      "metadata": {
        "id": "_fHDKDD4wtMH",
        "colab_type": "text"
      },
      "source": [
        "## 読み出し層"
      ]
    },
    {
      "cell_type": "code",
      "metadata": {
        "id": "ZbEyZkeQw3na",
        "colab_type": "code",
        "colab": {}
      },
      "source": [
        "W_fc2 = weight_variables([1024,10])\n",
        "b_fc2 = bias_variables([10])\n",
        "\n",
        "y_conv = tf.matmul(h_fc1_drop, W_fc2) + b_fc2"
      ],
      "execution_count": 0,
      "outputs": []
    },
    {
      "cell_type": "markdown",
      "metadata": {
        "id": "Xk9MuATuxI3f",
        "colab_type": "text"
      },
      "source": [
        "## モデルのトレーニングと評価"
      ]
    },
    {
      "cell_type": "code",
      "metadata": {
        "id": "CvuxbKMyxhRR",
        "colab_type": "code",
        "colab": {
          "base_uri": "https://localhost:8080/",
          "height": 1000
        },
        "outputId": "76b3b109-3097-4dde-b773-a575898f170b"
      },
      "source": [
        "cross_entropy = tf.reduce_mean(tf.nn.softmax_cross_entropy_with_logits(labels=y, logits=y_conv))\n",
        "train_step = tf.train.AdamOptimizer(1e-04).minimize(cross_entropy)\n",
        "correct_prediction = tf.equal(tf.argmax(y_conv, 1), tf.argmax(y, 1))\n",
        "accuracy = tf.reduce_mean(tf.cast(correct_prediction, tf.float32))\n",
        "\n",
        "with tf.Session() as sess:\n",
        "  sess.run(tf.global_variables_initializer())\n",
        "  for i in range(20000):\n",
        "    batch = mnist.train.next_batch(50)\n",
        "    if i % 100 == 0:\n",
        "      train_accuracy = accuracy.eval(feed_dict = {x :batch[0], y:batch[1], keep_prob:1.0})\n",
        "      print('step %d, training accuracy %g' % (i, train_accuracy))\n",
        "    train_step.run(feed_dict={x: batch[0], y: batch[1], keep_prob: 0.5})\n",
        "  \n",
        "  print('test accuracy %g' % accuracy.eval(feed_dict={ x: mnist.test.images, y: mnist.test.labels, keep_prob: 1.0}))"
      ],
      "execution_count": 16,
      "outputs": [
        {
          "output_type": "stream",
          "text": [
            "W0816 11:31:36.825444 140459619010432 deprecation.py:323] From <ipython-input-16-2720ca30f1d6>:1: softmax_cross_entropy_with_logits (from tensorflow.python.ops.nn_ops) is deprecated and will be removed in a future version.\n",
            "Instructions for updating:\n",
            "\n",
            "Future major versions of TensorFlow will allow gradients to flow\n",
            "into the labels input on backprop by default.\n",
            "\n",
            "See `tf.nn.softmax_cross_entropy_with_logits_v2`.\n",
            "\n"
          ],
          "name": "stderr"
        },
        {
          "output_type": "stream",
          "text": [
            "step 0, training accuracy 0.06\n",
            "step 100, training accuracy 0.88\n",
            "step 200, training accuracy 0.86\n",
            "step 300, training accuracy 0.92\n",
            "step 400, training accuracy 0.92\n",
            "step 500, training accuracy 0.96\n",
            "step 600, training accuracy 0.94\n",
            "step 700, training accuracy 0.96\n",
            "step 800, training accuracy 0.96\n",
            "step 900, training accuracy 1\n",
            "step 1000, training accuracy 0.96\n",
            "step 1100, training accuracy 0.92\n",
            "step 1200, training accuracy 0.98\n",
            "step 1300, training accuracy 1\n",
            "step 1400, training accuracy 0.96\n",
            "step 1500, training accuracy 0.96\n",
            "step 1600, training accuracy 0.98\n",
            "step 1700, training accuracy 1\n",
            "step 1800, training accuracy 0.98\n",
            "step 1900, training accuracy 1\n",
            "step 2000, training accuracy 0.98\n",
            "step 2100, training accuracy 1\n",
            "step 2200, training accuracy 0.94\n",
            "step 2300, training accuracy 1\n",
            "step 2400, training accuracy 0.98\n",
            "step 2500, training accuracy 0.94\n",
            "step 2600, training accuracy 0.96\n",
            "step 2700, training accuracy 0.98\n",
            "step 2800, training accuracy 1\n",
            "step 2900, training accuracy 0.98\n",
            "step 3000, training accuracy 1\n",
            "step 3100, training accuracy 1\n",
            "step 3200, training accuracy 0.94\n",
            "step 3300, training accuracy 1\n",
            "step 3400, training accuracy 0.96\n",
            "step 3500, training accuracy 0.98\n",
            "step 3600, training accuracy 0.96\n",
            "step 3700, training accuracy 0.98\n",
            "step 3800, training accuracy 1\n",
            "step 3900, training accuracy 0.98\n",
            "step 4000, training accuracy 1\n",
            "step 4100, training accuracy 1\n",
            "step 4200, training accuracy 0.98\n",
            "step 4300, training accuracy 1\n",
            "step 4400, training accuracy 1\n",
            "step 4500, training accuracy 0.92\n",
            "step 4600, training accuracy 1\n",
            "step 4700, training accuracy 0.98\n",
            "step 4800, training accuracy 1\n",
            "step 4900, training accuracy 1\n",
            "step 5000, training accuracy 1\n",
            "step 5100, training accuracy 1\n",
            "step 5200, training accuracy 1\n",
            "step 5300, training accuracy 1\n",
            "step 5400, training accuracy 0.98\n",
            "step 5500, training accuracy 0.98\n",
            "step 5600, training accuracy 1\n",
            "step 5700, training accuracy 0.98\n",
            "step 5800, training accuracy 1\n",
            "step 5900, training accuracy 1\n",
            "step 6000, training accuracy 1\n",
            "step 6100, training accuracy 1\n",
            "step 6200, training accuracy 1\n",
            "step 6300, training accuracy 1\n",
            "step 6400, training accuracy 1\n",
            "step 6500, training accuracy 1\n",
            "step 6600, training accuracy 1\n",
            "step 6700, training accuracy 1\n",
            "step 6800, training accuracy 1\n",
            "step 6900, training accuracy 0.98\n",
            "step 7000, training accuracy 1\n",
            "step 7100, training accuracy 0.98\n",
            "step 7200, training accuracy 1\n",
            "step 7300, training accuracy 1\n",
            "step 7400, training accuracy 0.98\n",
            "step 7500, training accuracy 1\n",
            "step 7600, training accuracy 1\n",
            "step 7700, training accuracy 0.98\n",
            "step 7800, training accuracy 1\n",
            "step 7900, training accuracy 1\n",
            "step 8000, training accuracy 1\n",
            "step 8100, training accuracy 1\n",
            "step 8200, training accuracy 1\n",
            "step 8300, training accuracy 1\n",
            "step 8400, training accuracy 1\n",
            "step 8500, training accuracy 1\n",
            "step 8600, training accuracy 1\n",
            "step 8700, training accuracy 1\n",
            "step 8800, training accuracy 1\n",
            "step 8900, training accuracy 1\n",
            "step 9000, training accuracy 1\n",
            "step 9100, training accuracy 0.98\n",
            "step 9200, training accuracy 1\n",
            "step 9300, training accuracy 1\n",
            "step 9400, training accuracy 1\n",
            "step 9500, training accuracy 1\n",
            "step 9600, training accuracy 1\n",
            "step 9700, training accuracy 1\n",
            "step 9800, training accuracy 1\n",
            "step 9900, training accuracy 0.98\n",
            "step 10000, training accuracy 1\n",
            "step 10100, training accuracy 1\n",
            "step 10200, training accuracy 0.98\n",
            "step 10300, training accuracy 1\n",
            "step 10400, training accuracy 1\n",
            "step 10500, training accuracy 1\n",
            "step 10600, training accuracy 0.98\n",
            "step 10700, training accuracy 0.98\n",
            "step 10800, training accuracy 1\n",
            "step 10900, training accuracy 1\n",
            "step 11000, training accuracy 1\n",
            "step 11100, training accuracy 1\n",
            "step 11200, training accuracy 1\n",
            "step 11300, training accuracy 1\n",
            "step 11400, training accuracy 1\n",
            "step 11500, training accuracy 1\n",
            "step 11600, training accuracy 1\n",
            "step 11700, training accuracy 1\n",
            "step 11800, training accuracy 1\n",
            "step 11900, training accuracy 0.98\n",
            "step 12000, training accuracy 1\n",
            "step 12100, training accuracy 1\n",
            "step 12200, training accuracy 1\n",
            "step 12300, training accuracy 1\n",
            "step 12400, training accuracy 1\n",
            "step 12500, training accuracy 1\n",
            "step 12600, training accuracy 1\n",
            "step 12700, training accuracy 1\n",
            "step 12800, training accuracy 1\n",
            "step 12900, training accuracy 0.98\n",
            "step 13000, training accuracy 1\n",
            "step 13100, training accuracy 1\n",
            "step 13200, training accuracy 1\n",
            "step 13300, training accuracy 1\n",
            "step 13400, training accuracy 1\n",
            "step 13500, training accuracy 0.96\n",
            "step 13600, training accuracy 1\n",
            "step 13700, training accuracy 1\n",
            "step 13800, training accuracy 1\n",
            "step 13900, training accuracy 1\n",
            "step 14000, training accuracy 1\n",
            "step 14100, training accuracy 1\n",
            "step 14200, training accuracy 1\n",
            "step 14300, training accuracy 1\n",
            "step 14400, training accuracy 1\n",
            "step 14500, training accuracy 0.98\n",
            "step 14600, training accuracy 1\n",
            "step 14700, training accuracy 1\n",
            "step 14800, training accuracy 1\n",
            "step 14900, training accuracy 1\n",
            "step 15000, training accuracy 1\n",
            "step 15100, training accuracy 1\n",
            "step 15200, training accuracy 1\n",
            "step 15300, training accuracy 1\n",
            "step 15400, training accuracy 1\n",
            "step 15500, training accuracy 1\n",
            "step 15600, training accuracy 1\n",
            "step 15700, training accuracy 1\n",
            "step 15800, training accuracy 1\n",
            "step 15900, training accuracy 1\n",
            "step 16000, training accuracy 1\n",
            "step 16100, training accuracy 1\n",
            "step 16200, training accuracy 1\n",
            "step 16300, training accuracy 0.98\n",
            "step 16400, training accuracy 1\n",
            "step 16500, training accuracy 1\n",
            "step 16600, training accuracy 1\n",
            "step 16700, training accuracy 1\n",
            "step 16800, training accuracy 1\n",
            "step 16900, training accuracy 1\n",
            "step 17000, training accuracy 1\n",
            "step 17100, training accuracy 1\n",
            "step 17200, training accuracy 1\n",
            "step 17300, training accuracy 1\n",
            "step 17400, training accuracy 0.98\n",
            "step 17500, training accuracy 1\n",
            "step 17600, training accuracy 1\n",
            "step 17700, training accuracy 1\n",
            "step 17800, training accuracy 1\n",
            "step 17900, training accuracy 1\n",
            "step 18000, training accuracy 1\n",
            "step 18100, training accuracy 1\n",
            "step 18200, training accuracy 1\n",
            "step 18300, training accuracy 0.98\n",
            "step 18400, training accuracy 1\n",
            "step 18500, training accuracy 1\n",
            "step 18600, training accuracy 1\n",
            "step 18700, training accuracy 1\n",
            "step 18800, training accuracy 1\n",
            "step 18900, training accuracy 1\n",
            "step 19000, training accuracy 1\n",
            "step 19100, training accuracy 1\n",
            "step 19200, training accuracy 1\n",
            "step 19300, training accuracy 1\n",
            "step 19400, training accuracy 1\n",
            "step 19500, training accuracy 1\n",
            "step 19600, training accuracy 1\n",
            "step 19700, training accuracy 1\n",
            "step 19800, training accuracy 1\n",
            "step 19900, training accuracy 1\n",
            "test accuracy 0.9935\n"
          ],
          "name": "stdout"
        }
      ]
    },
    {
      "cell_type": "code",
      "metadata": {
        "id": "G92zEzZ6MQtL",
        "colab_type": "code",
        "colab": {}
      },
      "source": [
        ""
      ],
      "execution_count": 0,
      "outputs": []
    }
  ]
}