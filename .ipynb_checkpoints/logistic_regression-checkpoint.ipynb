{
 "cells": [
  {
   "cell_type": "markdown",
   "metadata": {},
   "source": [
    "# ロジスティック回帰を実装する"
   ]
  },
  {
   "cell_type": "code",
   "execution_count": 1,
   "metadata": {},
   "outputs": [],
   "source": [
    "import tensorflow as tf"
   ]
  },
  {
   "cell_type": "markdown",
   "metadata": {},
   "source": [
    "## Inferance\n",
    "与えられたミニバッチに対してクラスの出力を返す"
   ]
  },
  {
   "cell_type": "code",
   "execution_count": 2,
   "metadata": {},
   "outputs": [],
   "source": [
    "def inference(x):\n",
    "    # \n",
    "    init = tf.constant_initializer(value=0)\n",
    "    W = tf.get_variable(\"W\", [784,10], initializer = init)\n",
    "    b  = tf.get_variable(\"b\", [10], initializer = init)\n",
    "    output = tf.nn.softmax(tf.matmul(x, W) + b)\n",
    "    \n",
    "    # 表示用\n",
    "    tf.summary.histogram(\"weights\",W)\n",
    "    tf.summary.histogram(\"biases\",b)\n",
    "    tf.summary.histogram(\"output\",output)\n",
    "\n",
    "    return output"
   ]
  },
  {
   "cell_type": "markdown",
   "metadata": {},
   "source": [
    "## Loss\n",
    "損失関数（クロスエントロピー）\n",
    "\n",
    "$loss = - \\sum y_k log{o_k}$\n",
    "\n",
    "reduce_sum : 与えられたリストの総和をとる\n",
    "\n",
    "reduce_mean : 与えられたリストの平均を返す"
   ]
  },
  {
   "cell_type": "code",
   "execution_count": 3,
   "metadata": {},
   "outputs": [],
   "source": [
    "def loss(output, y):\n",
    "    elementwise_product = y * tf.log(output)\n",
    "    \n",
    "    xentropy = -tf.reduce_sum(elementswise_product, reduction_indices=1)\n",
    "    \n",
    "    loss = tf.reduce_mean(xentropy)\n",
    "    \n",
    "    return loss"
   ]
  },
  {
   "cell_type": "markdown",
   "metadata": {},
   "source": [
    "## Training\n",
    "パラメータの勾配を計算し，更新を行う"
   ]
  },
  {
   "cell_type": "code",
   "execution_count": 4,
   "metadata": {},
   "outputs": [],
   "source": [
    "def training(cost, global_step):\n",
    "    tf.summary.scalar(\"cost\",cost)\n",
    "    optimizer = tf.train.GradientDescentOptimizer(learning_rate)\n",
    "    train_op = optimizer.minimize(cost, global_step=global_step)\n",
    "    \n",
    "    return tain_op"
   ]
  },
  {
   "cell_type": "markdown",
   "metadata": {},
   "source": [
    "## Evaluate\n"
   ]
  },
  {
   "cell_type": "code",
   "execution_count": 5,
   "metadata": {},
   "outputs": [],
   "source": [
    "def evaluate(output, y):\n",
    "    correct_prediction = tf.equal(tf.argmax(output, 1), tf.argmax(y, 1))\n",
    "    accuracy = tf.resuce_mean(tf.cast(correct_prediction, tf.float32))\n",
    "    tf.summary.acalar(\"valisation error\", (1.0 -accuracy))\n",
    "    return accuracy"
   ]
  },
  {
   "cell_type": "markdown",
   "metadata": {},
   "source": [
    "## Main\n",
    "MNISTの手書き数字データを利用して分類を行う"
   ]
  },
  {
   "cell_type": "code",
   "execution_count": null,
   "metadata": {},
   "outputs": [],
   "source": [
    "if __name__ == \"__main__\":\n",
    "    # logが存在しているなら削除\n",
    "    if os.path.exists(\"logistic_logs\"):\n",
    "        shutil.rmtree(\"logistic_logs\")\n",
    "    \n",
    "    with tf.Graph().as_default():\n",
    "        x = tf.placeholder(\"float\", [None,784]) # image = 28*28  = 784\n",
    "        y = tf.placeholder(\"float\", [None,10]) # 0~9 classes\n",
    "        output = inference(x)\n",
    "        cost = loss(output, y)\n",
    "        global_step = tf.Variable(0, name=\"global_step\", trainable=False)\n",
    "        train_op = training(cost, global_step)\n",
    "        eval_op = evaluate(output, y)\n",
    "        # merge graphs\n",
    "        summary_op =  tf.summary.merge_all()\n",
    "        # model save\n",
    "        saver = tf.train.Saver()\n",
    "        sess = tf.Session()\n",
    "        # log write\n",
    "        summary_writer = tf.summary.FileWriter(\n",
    "            \"logistic_logs\",\n",
    "            graph_def=sess.graph_def\n",
    "        )\n",
    "        intit_op = tf.global_variables_initalizer()\n",
    "        sess.run(init_op)\n",
    "        \n",
    "        # training cycle"
   ]
  }
 ],
 "metadata": {
  "kernelspec": {
   "display_name": "Python 3",
   "language": "python",
   "name": "python3"
  },
  "language_info": {
   "codemirror_mode": {
    "name": "ipython",
    "version": 3
   },
   "file_extension": ".py",
   "mimetype": "text/x-python",
   "name": "python",
   "nbconvert_exporter": "python",
   "pygments_lexer": "ipython3",
   "version": "3.6.8"
  }
 },
 "nbformat": 4,
 "nbformat_minor": 2
}
